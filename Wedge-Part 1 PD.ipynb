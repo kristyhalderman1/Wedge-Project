{
 "cells": [
  {
   "cell_type": "code",
   "execution_count": 10,
   "id": "d714989e",
   "metadata": {},
   "outputs": [],
   "source": [
    "import os\n",
    "import re\n",
    "import datetime \n",
    "import sqlite3\n",
    "\n",
    "import pandas as pd\n",
    "import numpy as np\n",
    "import pandas_gbq\n",
    "import janitor\n",
    "\n",
    "# Do our imports for the code\n",
    "from google.cloud import bigquery\n",
    "from google.oauth2 import service_account"
   ]
  },
  {
   "cell_type": "code",
   "execution_count": 11,
   "id": "daafbd7a",
   "metadata": {},
   "outputs": [],
   "source": [
    "service_path = \"/Users/krusty/Desktop/MSBA /GBQ Key/\"\n",
    "service_file = 'my-project-366122-3a6c8a47fb52.json' # change this to your authentication information  \n",
    "gbq_proj_id = 'my-project-366122' # change this to your project. \n",
    "\n",
    "# And this should stay the same. \n",
    "private_key =service_path + service_file"
   ]
  },
  {
   "cell_type": "code",
   "execution_count": 12,
   "id": "56a1e7ee",
   "metadata": {},
   "outputs": [],
   "source": [
    "from zipfile import ZipFile"
   ]
  },
  {
   "cell_type": "code",
   "execution_count": null,
   "id": "7fcc2181",
   "metadata": {},
   "outputs": [],
   "source": [
    "/Users/krusty/Desktop/Repos/Wedge-Project/unzipped"
   ]
  },
  {
   "cell_type": "code",
   "execution_count": null,
   "id": "c7bc73b9",
   "metadata": {},
   "outputs": [],
   "source": [
    " /Users/krusty/Downloads/clean-files"
   ]
  },
  {
   "cell_type": "code",
   "execution_count": 13,
   "id": "d3389b14",
   "metadata": {
    "scrolled": true
   },
   "outputs": [
    {
     "name": "stdout",
     "output_type": "stream",
     "text": [
      "Extracting all the files now...\n",
      "clean-files/transArchive_201210_201212_inactive_clean.csv\n"
     ]
    },
    {
     "name": "stderr",
     "output_type": "stream",
     "text": [
      "100%|███████████████████████████████████████████| 1/1 [00:00<00:00, 1453.33it/s]"
     ]
    },
    {
     "name": "stdout",
     "output_type": "stream",
     "text": [
      "Done!\n"
     ]
    },
    {
     "name": "stderr",
     "output_type": "stream",
     "text": [
      "\n"
     ]
    }
   ],
   "source": [
    "# opening the zip file in READ mode \n",
    "with ZipFile(\"/Users/krusty/Downloads/wedge-clean-files.zip\", 'r') as zf : \n",
    "    # printing what's in the zip file.  \n",
    "    #zf.printdir() \n",
    "  \n",
    "    # extracting all the files \n",
    "    print('Extracting all the files now...') \n",
    "    #zf.extractall(\"unzipped\") \n",
    "    \n",
    "    zipped_files = zf.namelist()\n",
    "    \n",
    "    for file_name in zipped_files :\n",
    "        if file_name.startswith(\"clean-files\") and file_name.endswith(\".csv\"):\n",
    "            print(file_name)\n",
    "            item_lu = pd.read_csv('unzipped/' + file_name,low_memory=False)\n",
    "            #print(item_lu.head()) \n",
    "            table_name = \"trans_2010-01-01\"\n",
    "            dataset_id = \"wedge\"\n",
    "            table_id = \".\".join([gbq_proj_id, dataset_id, table_name])\n",
    "            pandas_gbq.to_gbq(item_lu, table_id, project_id=gbq_proj_id,if_exists=\"replace\")       \n",
    "            break\n",
    " #go through and add other data, define table name correctly                    \n",
    "    \n",
    "    \n",
    "    \n",
    "    print('Done!') "
   ]
  },
  {
   "cell_type": "code",
   "execution_count": 14,
   "id": "709c7ffb",
   "metadata": {},
   "outputs": [
    {
     "data": {
      "text/plain": [
       "'clean-files/transArchive_201210_201212_inactive_clean.csv'"
      ]
     },
     "execution_count": 14,
     "metadata": {},
     "output_type": "execute_result"
    }
   ],
   "source": [
    "file_name"
   ]
  }
 ],
 "metadata": {
  "kernelspec": {
   "display_name": "Python 3 (ipykernel)",
   "language": "python",
   "name": "python3"
  },
  "language_info": {
   "codemirror_mode": {
    "name": "ipython",
    "version": 3
   },
   "file_extension": ".py",
   "mimetype": "text/x-python",
   "name": "python",
   "nbconvert_exporter": "python",
   "pygments_lexer": "ipython3",
   "version": "3.9.12"
  }
 },
 "nbformat": 4,
 "nbformat_minor": 5
}
