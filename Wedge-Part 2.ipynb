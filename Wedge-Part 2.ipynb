{
 "cells": [
  {
   "cell_type": "code",
   "execution_count": 2,
   "id": "d714989e",
   "metadata": {},
   "outputs": [],
   "source": [
    "from google.cloud import bigquery\n",
    "from google.oauth2 import service_account\n",
    "import random"
   ]
  },
  {
   "cell_type": "code",
   "execution_count": 3,
   "id": "daafbd7a",
   "metadata": {},
   "outputs": [],
   "source": [
    "service_path = \"/Users/krusty/Desktop/MSBA /GBQ Key/\"\n",
    "service_file = 'my-project-366122-3a6c8a47fb52.json' # change this to your authentication information  \n",
    "gbq_proj_id = 'my-project-366122' # change this to your project. \n",
    "gbq_dataset_id = 'wedge'\n",
    "\n",
    "# And this should stay the same. \n",
    "private_key =service_path + service_file"
   ]
  },
  {
   "cell_type": "code",
   "execution_count": 4,
   "id": "9262107a",
   "metadata": {},
   "outputs": [],
   "source": [
    "credentials = service_account.Credentials.from_service_account_file(service_path + service_file)"
   ]
  },
  {
   "cell_type": "code",
   "execution_count": 5,
   "id": "163a0bae",
   "metadata": {},
   "outputs": [],
   "source": [
    "client = bigquery.Client(credentials = credentials, project=gbq_proj_id)"
   ]
  },
  {
   "cell_type": "code",
   "execution_count": null,
   "id": "ea00883c",
   "metadata": {},
   "outputs": [],
   "source": [
    "query = '''SELECT DISTINCT(card_no) FROM `wedge-project-fall2021-92691.Wedge_FULL.transArchive*`\n",
    "WHERE card_no!=3.0'''  # establishes a query to pull owners via their heading 'card_no' #NEED THIS EXPLAINED "
   ]
  },
  {
   "cell_type": "code",
   "execution_count": 8,
   "id": "94b4f8bd",
   "metadata": {
    "scrolled": false
   },
   "outputs": [
    {
     "data": {
      "text/plain": [
       "<sqlite3.Cursor at 0x7fab9cd43b20>"
      ]
     },
     "execution_count": 8,
     "metadata": {},
     "output_type": "execute_result"
    }
   ],
   "source": [
    "owners = client.query(query,location=\"US\")"
   ]
  },
  {
   "cell_type": "code",
   "execution_count": 6,
   "id": "a944dddb",
   "metadata": {},
   "outputs": [
    {
     "data": {
      "text/plain": [
       "<sqlite3.Cursor at 0x7fab9cd43b20>"
      ]
     },
     "execution_count": 6,
     "metadata": {},
     "output_type": "execute_result"
    }
   ],
   "source": [
    "owner_list = []\n",
    "for owner in owners:\n",
    "    owner_list.append(owner[0])  # searches through all data sets to create a DISTINCT list of all owners \n",
    "    #putting them into object 'owner_list'"
   ]
  },
  {
   "cell_type": "code",
   "execution_count": 7,
   "id": "bd30ecf2",
   "metadata": {
    "scrolled": true
   },
   "outputs": [
    {
     "data": {
      "text/plain": [
       "<sqlite3.Cursor at 0x7fab9cd43b20>"
      ]
     },
     "execution_count": 7,
     "metadata": {},
     "output_type": "execute_result"
    }
   ],
   "source": [
    "len(owner_list)  # identifies the total population count of different owners in the Wedge data"
   ]
  },
  {
   "cell_type": "code",
   "execution_count": 9,
   "id": "da356575",
   "metadata": {},
   "outputs": [],
   "source": [
    "owner_sample = random.sample(owner_list,400)\n",
    "# create a random sample of specified size of owners for further analysis"
   ]
  },
  {
   "cell_type": "code",
   "execution_count": 10,
   "id": "29fe4239",
   "metadata": {
    "scrolled": false
   },
   "outputs": [
    {
     "ename": "NameError",
     "evalue": "name 'OwnerTransactions_30' is not defined",
     "output_type": "error",
     "traceback": [
      "\u001b[0;31m---------------------------------------------------------------------------\u001b[0m",
      "\u001b[0;31mNameError\u001b[0m                                 Traceback (most recent call last)",
      "Input \u001b[0;32mIn [10]\u001b[0m, in \u001b[0;36m<cell line: 1>\u001b[0;34m()\u001b[0m\n\u001b[0;32m----> 1\u001b[0m \u001b[38;5;28;01mwith\u001b[39;00m \u001b[38;5;28mopen\u001b[39m(\u001b[43mOwnerTransactions_30\u001b[49m\u001b[38;5;241m.\u001b[39mtxt,\u001b[38;5;124m'\u001b[39m\u001b[38;5;124mr\u001b[39m\u001b[38;5;124m'\u001b[39m) \u001b[38;5;28;01mas\u001b[39;00m ifile : \u001b[38;5;66;03m#ownertrans is placeholder \u001b[39;00m\n\u001b[1;32m      2\u001b[0m     \u001b[38;5;28;01mfor\u001b[39;00m idx, line \u001b[38;5;129;01min\u001b[39;00m \u001b[38;5;28menumerate\u001b[39m(ifile) :\n\u001b[1;32m      3\u001b[0m         line \u001b[38;5;241m=\u001b[39m line\u001b[38;5;241m.\u001b[39mstrip()\u001b[38;5;241m.\u001b[39msplit(\u001b[38;5;124m\"\u001b[39m\u001b[38;5;130;01m\\t\u001b[39;00m\u001b[38;5;124m\"\u001b[39m)\n",
      "\u001b[0;31mNameError\u001b[0m: name 'OwnerTransactions_30' is not defined"
     ]
    }
   ],
   "source": [
    "owner_trans = '''SELECT * FROM `wedge-project-fall2021-92691.Wedge_FULL.transArchive*`\n",
    "WHERE card_no IN ('''"
   ]
  },
  {
   "cell_type": "code",
   "execution_count": null,
   "id": "b2cc1604",
   "metadata": {},
   "outputs": [],
   "source": [
    "for owner in owner_sample:\n",
    "    owner_trans += str(owner)+','\n",
    "# building a list, so separately delimit with a comma until you've ran through the sampling process\n",
    "# assigning results to list object 'owner_trans'"
   ]
  },
  {
   "cell_type": "code",
   "execution_count": null,
   "id": "c5c0b1f5",
   "metadata": {},
   "outputs": [],
   "source": [
    "owner_trans = owner_trans[:-1]+')' # conclude sample list by removing final comma and adding closing parenthesis"
   ]
  },
  {
   "cell_type": "code",
   "execution_count": null,
   "id": "c1e22ee3",
   "metadata": {},
   "outputs": [],
   "source": [
    "random_trans = client.query(owner_trans,location=\"US\") # process random sample in GBQ, where records are assigned to\n",
    "# object 'random_trans' but only for those whose card_no resides in the owner_trans list"
   ]
  },
  {
   "cell_type": "code",
   "execution_count": null,
   "id": "7a1b9ce5",
   "metadata": {},
   "outputs": [],
   "source": [
    "from timeit import default_timer as timer # to establish access to 'process timer'\n",
    "start = timer()  # begin timer for this code block (will return #seconds elapsed)\n",
    "\n",
    "for trans in random_trans:\n",
    "    print('\\t'.join([str(x) for x in trans]))\n",
    "    break\n",
    "# takes first record that matches a sampled owner and puts it into a tab-delimited string\n",
    "\n",
    "end = timer() # stops the code-block timer process after all iterations of all loops\n",
    "print(end - start)  # displays total seconds elapsed in this code block process"
   ]
  },
  {
   "cell_type": "code",
   "execution_count": null,
   "id": "5b19be61",
   "metadata": {},
   "outputs": [],
   "source": [
    "list(random_trans)[0]  # reflects the first transaction in a list that is comma delimited"
   ]
  },
  {
   "cell_type": "code",
   "execution_count": null,
   "id": "c8e89fa1",
   "metadata": {},
   "outputs": [],
   "source": [
    "len(list(random_trans))   #identifies the total number of transactions associated with the sampled owners"
   ]
  },
  {
   "cell_type": "code",
   "execution_count": null,
   "id": "7ecfa7fd",
   "metadata": {},
   "outputs": [],
   "source": [
    "headers = [\"datetime\",\"register_no\",\"emp_no\",\"trans_no\",\"upc\",\"description\",\"trans_type\",\n",
    "           \"trans_subtype\",\"trans_status\",\"department\",\"quantity\",\"Scale\",\"cost\",\"unitPrice\",\n",
    "           \"total\",\"regPrice\",\"altPrice\",\"tax\",\"taxexempt\",\"foodstamp\",\"wicable\",\"discount\",\n",
    "           \"memDiscount\",\"discountable\",\"discounttype\",\"voided\",\"percentDiscount\",\"ItemQtty\",\n",
    "           \"volDiscType\",\"volume\",\"VolSpecial\",\"mixMatch\",\"matched\",\"memType\",\"staff\",\"numflag\",\n",
    "           \"itemstatus\",\"tenderstatus\",\"charflag\",\"varflag\",\"batchHeaderID\",\"local\",\"organic\",\n",
    "           \"display\",\"receipt\",\"card_no\",\"store\",\"branch\",\"match_id\",\"trans_id\"]\n",
    "# pulls in the headers"
   ]
  },
  {
   "cell_type": "code",
   "execution_count": null,
   "id": "0c417260",
   "metadata": {},
   "outputs": [],
   "source": [
    "from timeit import default_timer as timer # to establish access to 'process timer'\n",
    "start = timer()  # begin timer for this code block (will return #seconds elapsed)\n",
    "\n",
    "with open(\"sample_owner_trans.txt\", 'w') as outfile:\n",
    "    outfile.write(\",\".join(headers) + \"\\n\")\n",
    "    for row in random_trans:\n",
    "         outfile.write(\",\".join([str(item) for item in row])+ '\\n')\n",
    "            \n",
    "end = timer() # stops the code-block timer process after all iterations of all loops\n",
    "print(end - start)  # displays total seconds elapsed in this code block process    "
   ]
  }
 ],
 "metadata": {
  "kernelspec": {
   "display_name": "Python 3 (ipykernel)",
   "language": "python",
   "name": "python3"
  },
  "language_info": {
   "codemirror_mode": {
    "name": "ipython",
    "version": 3
   },
   "file_extension": ".py",
   "mimetype": "text/x-python",
   "name": "python",
   "nbconvert_exporter": "python",
   "pygments_lexer": "ipython3",
   "version": "3.9.12"
  }
 },
 "nbformat": 4,
 "nbformat_minor": 5
}
