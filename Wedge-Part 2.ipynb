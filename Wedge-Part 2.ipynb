{
 "cells": [
  {
   "cell_type": "code",
   "execution_count": 2,
   "id": "d714989e",
   "metadata": {},
   "outputs": [],
   "source": [
    "from google.cloud import bigquery\n",
    "from google.oauth2 import service_account\n",
    "import random"
   ]
  },
  {
   "cell_type": "code",
   "execution_count": 3,
   "id": "daafbd7a",
   "metadata": {},
   "outputs": [],
   "source": [
    "service_path = \"/Users/krusty/Desktop/MSBA /GBQ Key/\"\n",
    "service_file = 'my-project-366122-3a6c8a47fb52.json' # change this to your authentication information  \n",
    "gbq_proj_id = 'my-project-366122' # change this to your project. \n",
    "gbq_dataset_id = 'wedge'\n",
    "\n",
    "# And this should stay the same. \n",
    "private_key =service_path + service_file"
   ]
  },
  {
   "cell_type": "code",
   "execution_count": 4,
   "id": "9262107a",
   "metadata": {},
   "outputs": [],
   "source": [
    "credentials = service_account.Credentials.from_service_account_file(service_path + service_file)"
   ]
  },
  {
   "cell_type": "code",
   "execution_count": 5,
   "id": "163a0bae",
   "metadata": {},
   "outputs": [],
   "source": [
    "client = bigquery.Client(credentials = credentials, project=gbq_proj_id)"
   ]
  },
  {
   "cell_type": "code",
   "execution_count": 9,
   "id": "ea00883c",
   "metadata": {},
   "outputs": [],
   "source": [
    "query = '''SELECT DISTINCT(card_no) FROM `my-project-366122.wedge.transArchive*`\n",
    "WHERE card_no!=3.0'''  "
   ]
  },
  {
   "cell_type": "code",
   "execution_count": 10,
   "id": "94b4f8bd",
   "metadata": {
    "scrolled": false
   },
   "outputs": [],
   "source": [
    "owners = client.query(query,location=\"US\")"
   ]
  },
  {
   "cell_type": "code",
   "execution_count": 11,
   "id": "a944dddb",
   "metadata": {},
   "outputs": [],
   "source": [
    "owner_list = []\n",
    "for owner in owners:\n",
    "    owner_list.append(owner[0])  # creates distinct'owner_list' "
   ]
  },
  {
   "cell_type": "code",
   "execution_count": 12,
   "id": "bd30ecf2",
   "metadata": {
    "scrolled": true
   },
   "outputs": [
    {
     "data": {
      "text/plain": [
       "27207"
      ]
     },
     "execution_count": 12,
     "metadata": {},
     "output_type": "execute_result"
    }
   ],
   "source": [
    "len(owner_list)  # total number of wedge owners "
   ]
  },
  {
   "cell_type": "code",
   "execution_count": 23,
   "id": "da356575",
   "metadata": {},
   "outputs": [],
   "source": [
    "owner_sample = random.sample(owner_list,450)\n",
    "#sample of 450 allows for more in depth analysis "
   ]
  },
  {
   "cell_type": "code",
   "execution_count": 24,
   "id": "29fe4239",
   "metadata": {
    "scrolled": true
   },
   "outputs": [],
   "source": [
    "owner_trans = '''SELECT * FROM `my-project-366122.wedge.transArchive*`\n",
    "WHERE card_no IN ('''"
   ]
  },
  {
   "cell_type": "code",
   "execution_count": 25,
   "id": "b2cc1604",
   "metadata": {},
   "outputs": [],
   "source": [
    "for owner in owner_sample:\n",
    "    owner_trans += str(owner)+','\n",
    "# Separately delimit with a comma until you're through sample \n",
    "# assigning results to list object 'owner_trans'"
   ]
  },
  {
   "cell_type": "code",
   "execution_count": 26,
   "id": "c5c0b1f5",
   "metadata": {},
   "outputs": [],
   "source": [
    "owner_trans = owner_trans[:-1]+')' \n",
    "# sample list finishes by removing final comma with the negative one"
   ]
  },
  {
   "cell_type": "code",
   "execution_count": 27,
   "id": "16b010fc",
   "metadata": {},
   "outputs": [],
   "source": [
    "random_trans = client.query(owner_trans,location=\"US\") "
   ]
  },
  {
   "cell_type": "code",
   "execution_count": 28,
   "id": "1ea26c71",
   "metadata": {},
   "outputs": [
    {
     "name": "stdout",
     "output_type": "stream",
     "text": [
      "2010-10-21 12:55:40+00:00\t8.0\t26.0\t64.0\t0\tCredit Card\tT\tCC\t \t0.0\t0.0\t0.0\t0.0\t0.0\t-9.32\t0.0\t0.0\t0.0\t0.0\t0.0\t0.0\t0.0\t0.0\t0.0\t0.0\t0.0\tNone\t0.0\t0.0\t0.0\t0.0\t0.0\t0.0\tNone\tFalse\t0.0\t0.0\t0.0\tM\t0.0\tNone\t0.0\tNone\tNone\t0.0\t50838.0\t1.0\t0.0\t0.0\t6.0\n",
      "9.52094669600001\n"
     ]
    }
   ],
   "source": [
    "from timeit import default_timer as timer # accesses timer \n",
    "start = timer()  # start timer in seconds \n",
    "\n",
    "for trans in random_trans:\n",
    "    print('\\t'.join([str(x) for x in trans]))\n",
    "    break\n",
    "# takes first record that matches a sampled owner and puts it into a tab-delimited string\n",
    "\n",
    "end = timer() # ends timer after cycled through loops \n",
    "print(end - start)  # in seconds "
   ]
  },
  {
   "cell_type": "code",
   "execution_count": 19,
   "id": "1238c201",
   "metadata": {
    "scrolled": true
   },
   "outputs": [
    {
     "data": {
      "text/plain": [
       "Row((datetime.datetime(2013, 10, 31, 17, 14, 51, tzinfo=datetime.timezone.utc), 5.0, 98.0, 61.0, '0', 'InStoreCoupon', 'T', 'IC', ' ', 0.0, 0.0, 0.0, 0.0, 0.0, -5.0, 0.0, 0.0, 0.0, 0.0, 0.0, 0.0, 0.0, 0.0, 0.0, 0.0, 0.0, None, 0.0, 0.0, 0.0, 0.0, 0.0, 0.0, None, None, 0.0, 0.0, 0.0, None, 0.0, None, 0.0, None, None, 0.0, 47440.0, 1.0, 0.0, 0.0, 36.0), {'datetime': 0, 'register_no': 1, 'emp_no': 2, 'trans_no': 3, 'upc': 4, 'description': 5, 'trans_type': 6, 'trans_subtype': 7, 'trans_status': 8, 'department': 9, 'quantity': 10, 'Scale': 11, 'cost': 12, 'unitPrice': 13, 'total': 14, 'regPrice': 15, 'altPrice': 16, 'tax': 17, 'taxexempt': 18, 'foodstamp': 19, 'wicable': 20, 'discount': 21, 'memDiscount': 22, 'discountable': 23, 'discounttype': 24, 'voided': 25, 'percentDiscount': 26, 'ItemQtty': 27, 'volDiscType': 28, 'volume': 29, 'VolSpecial': 30, 'mixMatch': 31, 'matched': 32, 'memType': 33, 'staff': 34, 'numflag': 35, 'itemstatus': 36, 'tenderstatus': 37, 'charflag': 38, 'varflag': 39, 'batchHeaderID': 40, 'local': 41, 'organic': 42, 'display': 43, 'receipt': 44, 'card_no': 45, 'store': 46, 'branch': 47, 'match_id': 48, 'trans_id': 49})"
      ]
     },
     "execution_count": 19,
     "metadata": {},
     "output_type": "execute_result"
    }
   ],
   "source": [
    "list(random_trans)[0]  "
   ]
  },
  {
   "cell_type": "code",
   "execution_count": 29,
   "id": "5d833f5c",
   "metadata": {
    "scrolled": true
   },
   "outputs": [
    {
     "data": {
      "text/plain": [
       "1102446"
      ]
     },
     "execution_count": 29,
     "metadata": {},
     "output_type": "execute_result"
    }
   ],
   "source": [
    "len(list(random_trans))   #number of transactions from sampled owners "
   ]
  },
  {
   "cell_type": "code",
   "execution_count": 30,
   "id": "1a794554",
   "metadata": {},
   "outputs": [],
   "source": [
    "headers = [\"datetime\",\"register_no\",\"emp_no\",\"trans_no\",\"upc\",\"description\",\"trans_type\",\n",
    "           \"trans_subtype\",\"trans_status\",\"department\",\"quantity\",\"Scale\",\"cost\",\"unitPrice\",\n",
    "           \"total\",\"regPrice\",\"altPrice\",\"tax\",\"taxexempt\",\"foodstamp\",\"wicable\",\"discount\",\n",
    "           \"memDiscount\",\"discountable\",\"discounttype\",\"voided\",\"percentDiscount\",\"ItemQtty\",\n",
    "           \"volDiscType\",\"volume\",\"VolSpecial\",\"mixMatch\",\"matched\",\"memType\",\"staff\",\"numflag\",\n",
    "           \"itemstatus\",\"tenderstatus\",\"charflag\",\"varflag\",\"batchHeaderID\",\"local\",\"organic\",\n",
    "           \"display\",\"receipt\",\"card_no\",\"store\",\"branch\",\"match_id\",\"trans_id\"]"
   ]
  },
  {
   "cell_type": "code",
   "execution_count": 31,
   "id": "9b72f914",
   "metadata": {},
   "outputs": [
    {
     "name": "stdout",
     "output_type": "stream",
     "text": [
      "459.28707897899994\n"
     ]
    }
   ],
   "source": [
    "from timeit import default_timer as timer \n",
    "start = timer()  \n",
    "\n",
    "with open(\"sample_owner_trans.txt\", 'w') as outfile:\n",
    "    outfile.write(\",\".join(headers) + \"\\n\")\n",
    "    for row in random_trans:\n",
    "         outfile.write(\",\".join([str(item) for item in row])+ '\\n')\n",
    "            \n",
    "end = timer() \n",
    "print(end - start)  "
   ]
  }
 ],
 "metadata": {
  "kernelspec": {
   "display_name": "Python 3 (ipykernel)",
   "language": "python",
   "name": "python3"
  },
  "language_info": {
   "codemirror_mode": {
    "name": "ipython",
    "version": 3
   },
   "file_extension": ".py",
   "mimetype": "text/x-python",
   "name": "python",
   "nbconvert_exporter": "python",
   "pygments_lexer": "ipython3",
   "version": "3.9.12"
  }
 },
 "nbformat": 4,
 "nbformat_minor": 5
}
