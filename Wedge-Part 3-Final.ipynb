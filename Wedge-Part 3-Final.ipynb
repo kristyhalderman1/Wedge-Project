{
 "cells": [
  {
   "cell_type": "code",
   "execution_count": 34,
   "id": "d714989e",
   "metadata": {},
   "outputs": [],
   "source": [
    "import random\n",
    "import sqlite3\n",
    "\n",
    "\n",
    "from google.cloud import bigquery\n",
    "from google.oauth2 import service_account"
   ]
  },
  {
   "cell_type": "code",
   "execution_count": 35,
   "id": "daafbd7a",
   "metadata": {},
   "outputs": [],
   "source": [
    "service_path = \"/Users/krusty/Desktop/MSBA /GBQ Key/\"\n",
    "service_file = 'my-project-366122-3a6c8a47fb52.json'  \n",
    "gbq_proj_id = 'my-project-366122' \n",
    "gbq_dataset_id = 'wedge'\n",
    "private_key =service_path + service_file"
   ]
  },
  {
   "cell_type": "code",
   "execution_count": 36,
   "id": "37fe1c40",
   "metadata": {},
   "outputs": [],
   "source": [
    "credentials = service_account.Credentials.from_service_account_file(service_path + service_file)\n",
    "\n",
    "client = bigquery.Client(credentials = credentials, project=gbq_proj_id)"
   ]
  },
  {
   "cell_type": "markdown",
   "id": "3a0ab7fd",
   "metadata": {},
   "source": [
    "## Create three tables: \n",
    "sales by date hour, sales by owner by year/month, sales by product description by year/month"
   ]
  },
  {
   "cell_type": "markdown",
   "id": "9dea5eb7",
   "metadata": {},
   "source": [
    "## Query 1 : Sales by Date by Hour"
   ]
  },
  {
   "cell_type": "code",
   "execution_count": 37,
   "id": "956ca755",
   "metadata": {},
   "outputs": [],
   "source": [
    "#remember appendix requirements \n",
    "sdhtable = '''SELECT (EXTRACT(date FROM datetime)) AS Date,\n",
    "    (EXTRACT(HOUR FROM datetime)) AS Hour,\n",
    "    SUM(total) as Sales,\n",
    "    COUNT(DISTINCT(Date(datetime) || register_no || emp_no || trans_no)) AS Transactions,\n",
    "    SUM(CASE WHEN(trans_status = 'V' OR trans_status = 'R') THEN -1 ELSE 1 END) as Items\n",
    "    FROM `my-project-366122.wedge.transArchive*`\n",
    "    \n",
    "    WHERE card_no != 3 \n",
    "    AND department != 0\n",
    "    AND department != 15\n",
    "    AND trans_status != 'M'\n",
    "    AND trans_status != 'C'\n",
    "    AND trans_status != 'J'\n",
    "    AND (trans_status = ''\n",
    "    OR trans_status = ' '\n",
    "    OR trans_status = 'V'\n",
    "    OR trans_status = 'R')\n",
    "    GROUP BY Date, Hour\n",
    "    ORDER BY Date, Hour'''\n",
    "\n",
    "date_hour_trans = client.query(sdhtable,location=\"US\")\n",
    "\n",
    "headers = [\"Date\",\"Hour\",\"Sales\",\"Transactions\",\"Items\"]"
   ]
  },
  {
   "cell_type": "code",
   "execution_count": 38,
   "id": "4d9aed28",
   "metadata": {},
   "outputs": [],
   "source": [
    "with open(\"sales_date_hour.txt\", 'w') as outfile:\n",
    "    outfile.write(\",\".join(headers) + \"\\n\")\n",
    "    for row in date_hour_trans:\n",
    "         outfile.write(\",\".join([str(item) for item in row])+ '\\n')"
   ]
  },
  {
   "cell_type": "code",
   "execution_count": 42,
   "id": "163a0bae",
   "metadata": {},
   "outputs": [],
   "source": [
    "db = sqlite3.connect(\"Wedge3.db\")"
   ]
  },
  {
   "cell_type": "code",
   "execution_count": 40,
   "id": "721056da",
   "metadata": {},
   "outputs": [],
   "source": [
    "cur = db.cursor()"
   ]
  },
  {
   "cell_type": "code",
   "execution_count": 41,
   "id": "c23b4792",
   "metadata": {},
   "outputs": [],
   "source": [
    "input_file1 = \"sales_date_hour.txt\"\n",
    "\n",
    "cur.execute('''DROP TABLE IF EXISTS sales_date_hour''') \n",
    "\n",
    "cur.execute('''CREATE TABLE sales_date_hour (\n",
    "    Date TIMESTAMP,\n",
    "    Hour TIMESTAMP,\n",
    "    Sales FLOAT,\n",
    "    Transactions INTEGER,\n",
    "    Items INTEGER)''')\n",
    "\n",
    "with open(input_file1, 'r', encoding = 'Latin-1') as infile:\n",
    "    for idx,line in enumerate(infile.readlines()):\n",
    "        line = line.strip().split(',')\n",
    "        cur.execute('''\n",
    "        INSERT INTO sales_date_hour (Date, Hour, Sales, Transactions, Items)\n",
    "        VALUES (?,?,?,?,?)''', line) \n",
    "db.commit()"
   ]
  },
  {
   "cell_type": "markdown",
   "id": "cf4333cd",
   "metadata": {},
   "source": [
    "## Query 2 - Sales by Owner by Year/Month"
   ]
  },
  {
   "cell_type": "code",
   "execution_count": 13,
   "id": "7329e66e",
   "metadata": {},
   "outputs": [],
   "source": [
    "#rinse repeat \n",
    "sdhtable2 = '''SELECT card_no,\n",
    "    (EXTRACT(year FROM datetime)) AS Year,\n",
    "    (EXTRACT(month FROM datetime)) AS Month,\n",
    "    SUM(total) as Sales,\n",
    "    COUNT(DISTINCT(Date(datetime) || register_no || emp_no || trans_no)) AS Transactions,\n",
    "    SUM(CASE WHEN(trans_status = 'V' OR trans_status = 'R') THEN -1 ELSE 1 END) as Items\n",
    "    FROM `my-project-366122.wedge.transArchive*`\n",
    "    \n",
    "    WHERE department != 0\n",
    "    AND department != 15\n",
    "    AND trans_status != 'M'\n",
    "    AND trans_status != 'C'\n",
    "    AND trans_status != 'J'\n",
    "    AND (trans_status = ''\n",
    "    OR trans_status = ' '\n",
    "    OR trans_status = 'V'\n",
    "    OR trans_status = 'R')\n",
    "    GROUP BY card_no, Year, Month\n",
    "    ORDER BY card_no, Year, Month'''\n",
    "\n",
    "owner_year_month = client.query(sdhtable2,location=\"US\")\n",
    "\n",
    "headers = [\"Owner_ID\",\"Year\",\"Month\",\"Sales\",\"Transactions\",\"Items\"]"
   ]
  },
  {
   "cell_type": "code",
   "execution_count": 14,
   "id": "6db40f59",
   "metadata": {},
   "outputs": [],
   "source": [
    "with open(\"oym_trans.txt\", 'w') as outfile:\n",
    "    outfile.write(\",\".join(headers) + \"\\n\")\n",
    "    for row in owner_year_month:\n",
    "         outfile.write(\",\".join([str(item) for item in row])+ '\\n')"
   ]
  },
  {
   "cell_type": "code",
   "execution_count": 15,
   "id": "6f1e9ec3",
   "metadata": {},
   "outputs": [],
   "source": [
    "input_file2 = \"oym_trans.txt\"\n",
    "\n",
    "cur.execute('''DROP TABLE IF EXISTS Owner_Year_Month_Trans''') \n",
    "cur.execute('''CREATE TABLE Owner_Year_Month_Trans (\n",
    "    Owner_ID INTEGER,\n",
    "    Year TIMESTAMP,\n",
    "    Month TIMESTAMP,\n",
    "    Sales FLOAT,\n",
    "    Transactions INTEGER,\n",
    "    Items INTEGER)''')\n",
    "\n",
    "with open(input_file2, 'r', encoding = 'Latin-1') as infile:\n",
    "    for idx,line in enumerate(infile.readlines()):\n",
    "        line = line.strip().split(',')\n",
    "        cur.execute('''\n",
    "        INSERT INTO Owner_Year_Month (Owner_ID, Year, Month, Sales, Transactions, Items)\n",
    "        VALUES (?,?,?,?,?,?)''', line) #make sure that the ? match up with the column labels for value insertion\n",
    "\n",
    "        db.commit()"
   ]
  },
  {
   "cell_type": "markdown",
   "id": "669c6b06",
   "metadata": {},
   "source": [
    "## Task 3- Sales by Product Description by Year/Month"
   ]
  },
  {
   "cell_type": "code",
   "execution_count": 54,
   "id": "c6f69a1a",
   "metadata": {},
   "outputs": [],
   "source": [
    "table3_salespdym = '''SELECT tr.department, dl.dept_name,\n",
    "    (EXTRACT(year FROM datetime)) AS Year,\n",
    "    (EXTRACT(month FROM datetime)) AS Month,\n",
    "    upc,\n",
    "    description,\n",
    "    tr.department AS dept_no,\n",
    "    SUM(total) as Sales,\n",
    "    COUNT(DISTINCT(Date(datetime) || register_no || emp_no || trans_no)) AS Transactions,\n",
    "    SUM(CASE WHEN(trans_status = 'V' OR trans_status = 'R') THEN -1 ELSE 1 END) as Items\n",
    "    FROM `my-project-366122.wedge.transArchive*` AS tr\n",
    "    \n",
    "    LEFT OUTER JOIN `my-project-366122.wedge.department_lookup` AS dl ON tr.department = dl.department\n",
    "    \n",
    "    WHERE card_no != 3\n",
    "    AND tr.department != 0\n",
    "    AND tr.department != 15\n",
    "    AND trans_status != 'M'\n",
    "    AND trans_status != 'C'\n",
    "    AND trans_status != 'J'\n",
    "    AND (trans_status = ''\n",
    "    OR trans_status = ' '\n",
    "    OR trans_status = 'V'\n",
    "    OR trans_status = 'R')\n",
    "    GROUP BY Year, Month, upc, description, dept_no, dl.dept_name\n",
    "    ORDER BY description, Year, Month DESC'''    \n",
    "    \n",
    "prod_descript = client.query(table3_salespdym,location=\"US\")\n",
    "headers = [\"department\",\"dept_name\",\"Year\",\"Month\",\"upc\",\"description\",\"dept_no\",\"Sales\",\"Transactions\",\"Items\"]"
   ]
  },
  {
   "cell_type": "code",
   "execution_count": 55,
   "id": "8472d582",
   "metadata": {
    "scrolled": true
   },
   "outputs": [],
   "source": [
    "with open(\"sales_by_product_description.txt\", 'w') as outfile:\n",
    "    outfile.write(\",\".join(headers) + \"\\n\")\n",
    "    for row in prod_descript:\n",
    "         outfile.write(\",\".join([str(item) for item in row])+ '\\n')"
   ]
  },
  {
   "cell_type": "code",
   "execution_count": 57,
   "id": "dcce379b",
   "metadata": {},
   "outputs": [],
   "source": [
    "input_file3 = \"sales_by_product_description.txt\"\n",
    "\n",
    "cur.execute('''DROP TABLE IF EXISTS Item_Description_by_Month''') \n",
    "cur.execute('''CREATE TABLE Item_Description_by_Month (\n",
    "    department FLOAT,\n",
    "    dept_name TEXT,\n",
    "    Year TIMESTAMP,\n",
    "    Month TIMESTAMP,\n",
    "    upc STRING,\n",
    "    description STRING,\n",
    "    dept_no INTEGER,\n",
    "    Sales FLOAT,\n",
    "    Transactions INTEGER,\n",
    "    Items INTEGER)''')\n",
    "\n",
    "with open(input_file3, 'r', encoding = 'Latin-1') as infile:\n",
    "    for idx,line in enumerate(infile.readlines()):\n",
    "        line = line.strip().split(',')\n",
    "        cur.execute('''\n",
    "        INSERT INTO Item_Description_by_Month (department, dept_name, Year, Month, upc, description, dept_no, Sales, Transactions, Items)\n",
    "        VALUES (?,?,?,?,?,?,?,?,?,?)''', line)\n",
    "\n",
    "        db.commit()\n"
   ]
  }
 ],
 "metadata": {
  "kernelspec": {
   "display_name": "Python 3 (ipykernel)",
   "language": "python",
   "name": "python3"
  },
  "language_info": {
   "codemirror_mode": {
    "name": "ipython",
    "version": 3
   },
   "file_extension": ".py",
   "mimetype": "text/x-python",
   "name": "python",
   "nbconvert_exporter": "python",
   "pygments_lexer": "ipython3",
   "version": "3.9.12"
  }
 },
 "nbformat": 4,
 "nbformat_minor": 5
}
