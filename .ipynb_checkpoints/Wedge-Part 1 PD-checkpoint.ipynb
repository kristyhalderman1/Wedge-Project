{
 "cells": [
  {
   "cell_type": "code",
   "execution_count": 1,
   "id": "d714989e",
   "metadata": {},
   "outputs": [],
   "source": [
    "import os\n",
    "import re\n",
    "import datetime \n",
    "import sqlite3\n",
    "\n",
    "import pandas as pd\n",
    "import numpy as np\n",
    "import pandas_gbq\n",
    "import janitor\n",
    "\n",
    "# Do our imports for the code\n",
    "from google.cloud import bigquery\n",
    "from google.oauth2 import service_account"
   ]
  },
  {
   "cell_type": "code",
   "execution_count": 14,
   "id": "daafbd7a",
   "metadata": {},
   "outputs": [],
   "source": [
    "#do i even have to use GBQ for this part? \n",
    "#also need to input clean files into wedge table in GBQ...\n",
    "service_path = \"/Users/krusty/Desktop/MSBA /GBQ Key/\"\n",
    "service_file = 'my-project-366122-3a6c8a47fb52.json' # change this to your authentication information  \n",
    "gbq_proj_id = 'my-project-366122' # change this to your project. \n",
    "\n",
    "# And this should stay the same. \n",
    "private_key =service_path + service_file"
   ]
  },
  {
   "cell_type": "code",
   "execution_count": 3,
   "id": "56a1e7ee",
   "metadata": {},
   "outputs": [],
   "source": [
    "from zipfile import ZipFile"
   ]
  },
  {
   "cell_type": "code",
   "execution_count": 16,
   "id": "d3389b14",
   "metadata": {
    "scrolled": true
   },
   "outputs": [
    {
     "name": "stdout",
     "output_type": "stream",
     "text": [
      "Extracting all the files now...\n",
      "clean-files/transArchive_201210_201212_inactive_clean.csv\n"
     ]
    },
    {
     "name": "stderr",
     "output_type": "stream",
     "text": [
      "100%|███████████████████████████████████████████| 1/1 [00:00<00:00, 3134.76it/s]"
     ]
    },
    {
     "name": "stdout",
     "output_type": "stream",
     "text": [
      "Done!\n"
     ]
    },
    {
     "name": "stderr",
     "output_type": "stream",
     "text": [
      "\n"
     ]
    }
   ],
   "source": [
    "# opening the zip file in READ mode \n",
    "with ZipFile(\"/Users/krusty/Downloads/wedge-clean-files.zip\", 'r') as zf : \n",
    "    # printing what's in the zip file.  \n",
    "    #zf.printdir() \n",
    "  \n",
    "    # extracting all the files \n",
    "    print('Extracting all the files now...') \n",
    "    #zf.extractall(\"unzipped\") \n",
    "    \n",
    "    zipped_files = zf.namelist()\n",
    "    \n",
    "    for file_name in zipped_files :\n",
    "        if file_name.startswith(\"clean-files\") and file_name.endswith(\".csv\"):\n",
    "            print(file_name)\n",
    "            item_lu = pd.read_csv('unzipped/' + file_name,low_memory=False)\n",
    "            #print(item_lu.head()) \n",
    "            table_name = \"trans_2010-01-01\"\n",
    "            dataset_id = \"wedge\"\n",
    "            table_id = \".\".join([gbq_proj_id, dataset_id, table_name])\n",
    "            pandas_gbq.to_gbq(item_lu, table_id, project_id=gbq_proj_id,if_exists=\"replace\")       \n",
    "            break\n",
    " #go through and add other data, define table name correctly                    \n",
    "    \n",
    "    \n",
    "    \n",
    "    print('Done!') "
   ]
  },
  {
   "cell_type": "code",
   "execution_count": null,
   "id": "48aa71fd",
   "metadata": {},
   "outputs": [],
   "source": []
  },
  {
   "cell_type": "code",
   "execution_count": 2,
   "id": "163a0bae",
   "metadata": {},
   "outputs": [],
   "source": [
    "input_file = \"OwnerTransactions_30.txt\" #do i need this here or just lower? and which file should i use \n",
    "db = sqlite3.connect(\"Wedge3.db\")"
   ]
  },
  {
   "cell_type": "code",
   "execution_count": 3,
   "id": "71353688",
   "metadata": {},
   "outputs": [],
   "source": [
    "cur = db.cursor()"
   ]
  },
  {
   "cell_type": "code",
   "execution_count": null,
   "id": "516511f1",
   "metadata": {},
   "outputs": [],
   "source": [
    "#create three tables: sales by date hour, sales by owner by year/month, sales by product description by year/month"
   ]
  },
  {
   "cell_type": "code",
   "execution_count": 8,
   "id": "94b4f8bd",
   "metadata": {
    "scrolled": false
   },
   "outputs": [
    {
     "data": {
      "text/plain": [
       "<sqlite3.Cursor at 0x7fab9cd43b20>"
      ]
     },
     "execution_count": 8,
     "metadata": {},
     "output_type": "execute_result"
    }
   ],
   "source": [
    "#date or hour also timestamp? \n",
    "cur.execute('''DROP TABLE IF EXISTS sales_by_date_hour''')\n",
    "cur.execute ('''CREATE TABLE sales_by_date_hour (\n",
    "    date DATE, \n",
    "    hour INTEGER, \n",
    "    total_spend REAL, \n",
    "    trans INTEGER \n",
    "    items INTEGER)\n",
    "''')\n"
   ]
  },
  {
   "cell_type": "code",
   "execution_count": 6,
   "id": "a944dddb",
   "metadata": {},
   "outputs": [
    {
     "data": {
      "text/plain": [
       "<sqlite3.Cursor at 0x7fab9cd43b20>"
      ]
     },
     "execution_count": 6,
     "metadata": {},
     "output_type": "execute_result"
    }
   ],
   "source": [
    "cur.execute('''DROP TABLE IF EXISTS sales_by_owner''')\n",
    "cur.execute ('''CREATE TABLE sales_by_owner (\n",
    "    card_no INTEGER, \n",
    "    year INTEGER, \n",
    "    month INTEGER, \n",
    "    trans INTEGER \n",
    "    items INTEGER)\n",
    "''')"
   ]
  },
  {
   "cell_type": "code",
   "execution_count": 7,
   "id": "bd30ecf2",
   "metadata": {
    "scrolled": true
   },
   "outputs": [
    {
     "data": {
      "text/plain": [
       "<sqlite3.Cursor at 0x7fab9cd43b20>"
      ]
     },
     "execution_count": 7,
     "metadata": {},
     "output_type": "execute_result"
    }
   ],
   "source": [
    "cur.execute('''DROP TABLE IF EXISTS sales_by_product''')\n",
    "cur.execute ('''CREATE TABLE sales_by_product (\n",
    "    upc INTEGER,\n",
    "    description TEXT, \n",
    "    dept_no INTEGER,\n",
    "    dept_name INTEGER, \n",
    "    year INTEGER, \n",
    "    month INTEGER, \n",
    "    trans INTEGER \n",
    "    items INTEGER)\n",
    "''')"
   ]
  },
  {
   "cell_type": "code",
   "execution_count": 9,
   "id": "da356575",
   "metadata": {},
   "outputs": [],
   "source": [
    "db.commit()"
   ]
  },
  {
   "cell_type": "code",
   "execution_count": 10,
   "id": "29fe4239",
   "metadata": {},
   "outputs": [
    {
     "ename": "NameError",
     "evalue": "name 'OwnerTransactions_30' is not defined",
     "output_type": "error",
     "traceback": [
      "\u001b[0;31m---------------------------------------------------------------------------\u001b[0m",
      "\u001b[0;31mNameError\u001b[0m                                 Traceback (most recent call last)",
      "Input \u001b[0;32mIn [10]\u001b[0m, in \u001b[0;36m<cell line: 1>\u001b[0;34m()\u001b[0m\n\u001b[0;32m----> 1\u001b[0m \u001b[38;5;28;01mwith\u001b[39;00m \u001b[38;5;28mopen\u001b[39m(\u001b[43mOwnerTransactions_30\u001b[49m\u001b[38;5;241m.\u001b[39mtxt,\u001b[38;5;124m'\u001b[39m\u001b[38;5;124mr\u001b[39m\u001b[38;5;124m'\u001b[39m) \u001b[38;5;28;01mas\u001b[39;00m ifile : \u001b[38;5;66;03m#ownertrans is placeholder \u001b[39;00m\n\u001b[1;32m      2\u001b[0m     \u001b[38;5;28;01mfor\u001b[39;00m idx, line \u001b[38;5;129;01min\u001b[39;00m \u001b[38;5;28menumerate\u001b[39m(ifile) :\n\u001b[1;32m      3\u001b[0m         line \u001b[38;5;241m=\u001b[39m line\u001b[38;5;241m.\u001b[39mstrip()\u001b[38;5;241m.\u001b[39msplit(\u001b[38;5;124m\"\u001b[39m\u001b[38;5;130;01m\\t\u001b[39;00m\u001b[38;5;124m\"\u001b[39m)\n",
      "\u001b[0;31mNameError\u001b[0m: name 'OwnerTransactions_30' is not defined"
     ]
    }
   ],
   "source": [
    "with open(OwnerTransactions_30.txt,'r') as ifile : #ownertrans is placeholder \n",
    "    for idx, line in enumerate(ifile) :\n",
    "        line = line.strip().split(\"\\t\")\n",
    "        cur.execute('''\n",
    "            INSERT INTO sales_by_date_hour (date, hour, total_spend, trans, items)\n",
    "            VALUES (?,?,?,?,?,?)''', line)\n",
    "\n",
    "        \n",
    "        if idx > 100 :\n",
    "            break\n",
    "\n",
    "db.commit()"
   ]
  },
  {
   "cell_type": "code",
   "execution_count": null,
   "id": "b2cc1604",
   "metadata": {},
   "outputs": [],
   "source": [
    "with open(OwnerTransactions_30.txt,'r') as ifile : #ownertrans is placeholder \n",
    "    for idx, line in enumerate(ifile) :\n",
    "        line = line.strip().split(\"\\t\")\n",
    "        cur.execute('''\n",
    "            INSERT INTO sales_by_owner (card_no, year, month, trans, items)\n",
    "            VALUES (?,?,?,?,?)''', line)\n",
    "\n",
    "        \n",
    "        if idx > 100 :\n",
    "            break\n",
    "\n",
    "db.commit()"
   ]
  },
  {
   "cell_type": "code",
   "execution_count": null,
   "id": "c5c0b1f5",
   "metadata": {},
   "outputs": [],
   "source": [
    "with open(OwnerTransactions_30.txt,'r') as ifile : #ownertrans is placeholder \n",
    "    for idx, line in enumerate(ifile) :\n",
    "        line = line.strip().split(\"\\t\")\n",
    "        cur.execute('''\n",
    "            INSERT INTO sales_by_product (description, dept_no, dept_name, year, month, trans, items)\n",
    "            VALUES (?,?,?,?,?,?,?)''', line)\n",
    "\n",
    "        \n",
    "        if idx > 100 :\n",
    "            break\n",
    "\n",
    "db.commit()"
   ]
  }
 ],
 "metadata": {
  "kernelspec": {
   "display_name": "Python 3 (ipykernel)",
   "language": "python",
   "name": "python3"
  },
  "language_info": {
   "codemirror_mode": {
    "name": "ipython",
    "version": 3
   },
   "file_extension": ".py",
   "mimetype": "text/x-python",
   "name": "python",
   "nbconvert_exporter": "python",
   "pygments_lexer": "ipython3",
   "version": "3.9.12"
  }
 },
 "nbformat": 4,
 "nbformat_minor": 5
}
