{
 "cells": [
  {
   "cell_type": "code",
   "execution_count": 2,
   "id": "d714989e",
   "metadata": {},
   "outputs": [],
   "source": [
    "import os\n",
    "import datetime \n",
    "import sqlite3\n",
    "\n",
    "import pandas as pd\n",
    "import numpy as np\n",
    "import pandas_gbq\n",
    "import janitor\n",
    "\n",
    "from google.cloud import bigquery\n",
    "from google.oauth2 import service_account"
   ]
  },
  {
   "cell_type": "code",
   "execution_count": 5,
   "id": "daafbd7a",
   "metadata": {},
   "outputs": [],
   "source": [
    "service_path = \"/Users/krusty/Desktop/MSBA /GBQ Key/\"\n",
    "service_file = 'my-project-366122-3a6c8a47fb52.json' # change this to your authentication information  \n",
    "gbq_proj_id = 'my-project-366122' # change this to your project. \n",
    "\n",
    "# And this should stay the same. \n",
    "private_key =service_path + service_file"
   ]
  },
  {
   "cell_type": "code",
   "execution_count": 2,
   "id": "163a0bae",
   "metadata": {},
   "outputs": [],
   "source": [
    "db = sqlite3.connect(\"Wedge3.db\")"
   ]
  },
  {
   "cell_type": "code",
   "execution_count": 3,
   "id": "721056da",
   "metadata": {},
   "outputs": [],
   "source": [
    "cur = db.cursor()"
   ]
  },
  {
   "cell_type": "code",
   "execution_count": null,
   "id": "a5fe2966",
   "metadata": {},
   "outputs": [],
   "source": [
    "#create three tables: sales by date hour, sales by owner by year/month, sales by product description by year/month"
   ]
  },
  {
   "cell_type": "code",
   "execution_count": 8,
   "id": "c82fc0c8",
   "metadata": {
    "scrolled": true
   },
   "outputs": [
    {
     "data": {
      "text/plain": [
       "<sqlite3.Cursor at 0x7fab9cd43b20>"
      ]
     },
     "execution_count": 8,
     "metadata": {},
     "output_type": "execute_result"
    }
   ],
   "source": [
    "cur.execute('''DROP TABLE IF EXISTS sales_by_date_hour''')\n",
    "cur.execute ('''CREATE TABLE sales_by_date_hour (\n",
    "    date DATE, \n",
    "    hour INTEGER, \n",
    "    total_spend FLOAT, \n",
    "    trans INTEGER \n",
    "    items INTEGER)\n",
    "''')\n"
   ]
  },
  {
   "cell_type": "code",
   "execution_count": 6,
   "id": "1d439b0e",
   "metadata": {},
   "outputs": [
    {
     "data": {
      "text/plain": [
       "<sqlite3.Cursor at 0x7fab9cd43b20>"
      ]
     },
     "execution_count": 6,
     "metadata": {},
     "output_type": "execute_result"
    }
   ],
   "source": [
    "cur.execute('''DROP TABLE IF EXISTS sales_by_owner''')\n",
    "cur.execute ('''CREATE TABLE sales_by_owner (\n",
    "    card_no INTEGER, \n",
    "    year INTEGER, \n",
    "    month INTEGER, \n",
    "    sales float\n",
    "    trans INTEGER \n",
    "    items INTEGER)\n",
    "''')"
   ]
  },
  {
   "cell_type": "code",
   "execution_count": 7,
   "id": "51b227a1",
   "metadata": {
    "scrolled": true
   },
   "outputs": [
    {
     "data": {
      "text/plain": [
       "<sqlite3.Cursor at 0x7fab9cd43b20>"
      ]
     },
     "execution_count": 7,
     "metadata": {},
     "output_type": "execute_result"
    }
   ],
   "source": [
    "cur.execute('''DROP TABLE IF EXISTS sales_by_product''')\n",
    "cur.execute ('''CREATE TABLE sales_by_product (\n",
    "    upc INTEGER,\n",
    "    description TEXT, \n",
    "    dept_no INTEGER,\n",
    "    dept_name INTEGER, \n",
    "    year INTEGER, \n",
    "    month INTEGER, \n",
    "    trans INTEGER \n",
    "    items INTEGER)\n",
    "''')"
   ]
  },
  {
   "cell_type": "code",
   "execution_count": 9,
   "id": "adc18c07",
   "metadata": {},
   "outputs": [],
   "source": [
    "db.commit()"
   ]
  },
  {
   "cell_type": "code",
   "execution_count": 10,
   "id": "8135aa25",
   "metadata": {
    "scrolled": true
   },
   "outputs": [
    {
     "ename": "NameError",
     "evalue": "name 'OwnerTransactions_30' is not defined",
     "output_type": "error",
     "traceback": [
      "\u001b[0;31m---------------------------------------------------------------------------\u001b[0m",
      "\u001b[0;31mNameError\u001b[0m                                 Traceback (most recent call last)",
      "Input \u001b[0;32mIn [10]\u001b[0m, in \u001b[0;36m<cell line: 1>\u001b[0;34m()\u001b[0m\n\u001b[0;32m----> 1\u001b[0m \u001b[38;5;28;01mwith\u001b[39;00m \u001b[38;5;28mopen\u001b[39m(\u001b[43mOwnerTransactions_30\u001b[49m\u001b[38;5;241m.\u001b[39mtxt,\u001b[38;5;124m'\u001b[39m\u001b[38;5;124mr\u001b[39m\u001b[38;5;124m'\u001b[39m) \u001b[38;5;28;01mas\u001b[39;00m ifile : \u001b[38;5;66;03m#ownertrans is placeholder \u001b[39;00m\n\u001b[1;32m      2\u001b[0m     \u001b[38;5;28;01mfor\u001b[39;00m idx, line \u001b[38;5;129;01min\u001b[39;00m \u001b[38;5;28menumerate\u001b[39m(ifile) :\n\u001b[1;32m      3\u001b[0m         line \u001b[38;5;241m=\u001b[39m line\u001b[38;5;241m.\u001b[39mstrip()\u001b[38;5;241m.\u001b[39msplit(\u001b[38;5;124m\"\u001b[39m\u001b[38;5;130;01m\\t\u001b[39;00m\u001b[38;5;124m\"\u001b[39m)\n",
      "\u001b[0;31mNameError\u001b[0m: name 'OwnerTransactions_30' is not defined"
     ]
    }
   ],
   "source": [
    "with open(.txt,'r') as ifile : \n",
    "    for idx, line in enumerate(ifile) :\n",
    "        line = line.strip().split(\"\\t\")\n",
    "        cur.execute('''\n",
    "            INSERT INTO sales_by_date_hour (date, hour, total_spend, trans, items)\n",
    "            VALUES (?,?,?,?,?,?)''', line)\n",
    "\n",
    "        \n",
    "        if idx > 100 :\n",
    "            break\n",
    "\n",
    "db.commit()"
   ]
  },
  {
   "cell_type": "code",
   "execution_count": null,
   "id": "68364919",
   "metadata": {},
   "outputs": [],
   "source": [
    "with open(.txt,'r') as ifile : \n",
    "    for idx, line in enumerate(ifile) :\n",
    "        line = line.strip().split(\"\\t\")\n",
    "        cur.execute('''\n",
    "            INSERT INTO sales_by_owner (card_no, year, month, trans, items)\n",
    "            VALUES (?,?,?,?,?)''', line)\n",
    "\n",
    "        \n",
    "        if idx > 100 :\n",
    "            break\n",
    "\n",
    "db.commit()"
   ]
  },
  {
   "cell_type": "code",
   "execution_count": null,
   "id": "044a1edb",
   "metadata": {},
   "outputs": [],
   "source": [
    "with open(.txt,'r') as ifile : \n",
    "    for idx, line in enumerate(ifile) :\n",
    "        line = line.strip().split(\"\\t\")\n",
    "        cur.execute('''\n",
    "            INSERT INTO sales_by_product (description, dept_no, dept_name, year, month, trans, items)\n",
    "            VALUES (?,?,?,?,?,?,?)''', line)\n",
    "\n",
    "        \n",
    "        if idx > 100 :\n",
    "            break\n",
    "\n",
    "db.commit()"
   ]
  }
 ],
 "metadata": {
  "kernelspec": {
   "display_name": "Python 3 (ipykernel)",
   "language": "python",
   "name": "python3"
  },
  "language_info": {
   "codemirror_mode": {
    "name": "ipython",
    "version": 3
   },
   "file_extension": ".py",
   "mimetype": "text/x-python",
   "name": "python",
   "nbconvert_exporter": "python",
   "pygments_lexer": "ipython3",
   "version": "3.9.12"
  }
 },
 "nbformat": 4,
 "nbformat_minor": 5
}
